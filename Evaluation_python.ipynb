{
  "nbformat": 4,
  "nbformat_minor": 0,
  "metadata": {
    "colab": {
      "provenance": []
    },
    "kernelspec": {
      "name": "python3",
      "display_name": "Python 3"
    },
    "language_info": {
      "name": "python"
    }
  },
  "cells": [
    {
      "cell_type": "markdown",
      "source": [
        "### 1. Write a Python program to slice a string and return every second character.\n"
      ],
      "metadata": {
        "id": "dyX9mfoLTwTf"
      }
    },
    {
      "cell_type": "code",
      "source": [
        "def every_second_character(s):\n",
        "    return s[::2]\n",
        "\n",
        "# Example usage\n",
        "input_string = \"Hello, Vikash!\"\n",
        "result = every_second_character(input_string)\n",
        "print(result)"
      ],
      "metadata": {
        "colab": {
          "base_uri": "https://localhost:8080/"
        },
        "id": "7Lk472jEUBlo",
        "outputId": "c0b1eeb3-6fbb-4549-d468-1b8d51ba24e4"
      },
      "execution_count": 1,
      "outputs": [
        {
          "output_type": "stream",
          "name": "stdout",
          "text": [
            "Hlo iah\n"
          ]
        }
      ]
    },
    {
      "cell_type": "markdown",
      "source": [
        "### 2. Write a Python program to find all vowels in a string.\n"
      ],
      "metadata": {
        "id": "-FqRpTFmUbhv"
      }
    },
    {
      "cell_type": "code",
      "source": [
        "def find_vowels(s):\n",
        "    vowels = \"aeiouAEIOU\"\n",
        "    return [char for char in s if char in vowels]\n",
        "\n",
        "# Example usage\n",
        "input_string = \"Hello, Vikash!\"\n",
        "result = find_vowels(input_string)\n",
        "print(result)"
      ],
      "metadata": {
        "colab": {
          "base_uri": "https://localhost:8080/"
        },
        "id": "5yU-4IEJUgCF",
        "outputId": "020ae18a-296d-4dfb-d82d-5694f74a5481"
      },
      "execution_count": 2,
      "outputs": [
        {
          "output_type": "stream",
          "name": "stdout",
          "text": [
            "['e', 'o', 'i', 'a']\n"
          ]
        }
      ]
    },
    {
      "cell_type": "markdown",
      "source": [
        "### 3. Write a Python program to generate a list of squares of even numbers from 1 to 20.\n",
        "\n"
      ],
      "metadata": {
        "id": "bLGQw7sTUygX"
      }
    },
    {
      "cell_type": "code",
      "source": [
        "def squares_of_even_numbers():\n",
        "    return [x**2 for x in range(1, 21) if x % 2 == 0]\n",
        "\n",
        "# Example usage\n",
        "result = squares_of_even_numbers()\n",
        "print(result)"
      ],
      "metadata": {
        "colab": {
          "base_uri": "https://localhost:8080/"
        },
        "id": "hVAhbpiFU1pz",
        "outputId": "cc070096-b2ef-4363-c42e-2cbb8c36c777"
      },
      "execution_count": 3,
      "outputs": [
        {
          "output_type": "stream",
          "name": "stdout",
          "text": [
            "[4, 16, 36, 64, 100, 144, 196, 256, 324, 400]\n"
          ]
        }
      ]
    },
    {
      "cell_type": "markdown",
      "source": [
        "### 4. Write a function to check if a number is prime.\n"
      ],
      "metadata": {
        "id": "eQqLuuSbVDCP"
      }
    },
    {
      "cell_type": "code",
      "source": [
        "def is_prime(n):\n",
        "    if n <= 1:\n",
        "        return False\n",
        "    for i in range(2, int(n**0.5) + 1):\n",
        "        if n % i == 0:\n",
        "            return False\n",
        "    return True\n",
        "\n",
        "# Example usage\n",
        "number = 29\n",
        "result = is_prime(number)\n",
        "print(result)"
      ],
      "metadata": {
        "colab": {
          "base_uri": "https://localhost:8080/"
        },
        "id": "Q1k0frZPVCcF",
        "outputId": "c690be83-5e95-422d-aef8-1e5df634e277"
      },
      "execution_count": 4,
      "outputs": [
        {
          "output_type": "stream",
          "name": "stdout",
          "text": [
            "True\n"
          ]
        }
      ]
    },
    {
      "cell_type": "markdown",
      "source": [
        "### 5. Write a function to generate the first N Fibonacci numbers.\n"
      ],
      "metadata": {
        "id": "Ya_DACdtVLxj"
      }
    },
    {
      "cell_type": "code",
      "source": [
        "def fibonacci(n):\n",
        "    fib_sequence = []\n",
        "    a, b = 0, 1\n",
        "    for _ in range(n):\n",
        "        fib_sequence.append(a)\n",
        "        a, b = b, a + b\n",
        "    return fib_sequence\n",
        "\n",
        "# Example usage\n",
        "N = 10\n",
        "result = fibonacci(N)\n",
        "print(result)"
      ],
      "metadata": {
        "id": "JL6OtqsWVPzp"
      },
      "execution_count": null,
      "outputs": []
    },
    {
      "cell_type": "markdown",
      "source": [
        "\n",
        "### 6. Write a Python program to count the frequency of words in a list.\n"
      ],
      "metadata": {
        "id": "tB00JtnXVVyz"
      }
    },
    {
      "cell_type": "code",
      "source": [
        "\n",
        "def word_frequency(words):\n",
        "    frequency = {}\n",
        "    for word in words:\n",
        "        frequency[word] = frequency.get(word, 0) + 1\n",
        "    return frequency\n",
        "\n",
        "# Example usage\n",
        "word_list = [\"apple\", \"banana\", \"apple\", \"orange\", \"banana\", \"apple\"]\n",
        "result = word_frequency(word_list)\n",
        "print(result)\n"
      ],
      "metadata": {
        "colab": {
          "base_uri": "https://localhost:8080/"
        },
        "id": "JHSyYsVEVY85",
        "outputId": "7e9a5c37-12a0-4770-c5d1-eebad833ed47"
      },
      "execution_count": 5,
      "outputs": [
        {
          "output_type": "stream",
          "name": "stdout",
          "text": [
            "{'apple': 3, 'banana': 2, 'orange': 1}\n"
          ]
        }
      ]
    },
    {
      "cell_type": "markdown",
      "source": [
        "\n",
        "\n",
        "\n",
        "### 7. Write a function to sort a list of tuples by the second element.\n"
      ],
      "metadata": {
        "id": "ac6wgBvvVgCF"
      }
    },
    {
      "cell_type": "code",
      "source": [
        "def sort_tuples_by_second(tuples_list):\n",
        "    return sorted(tuples_list, key=lambda x: x[1])\n",
        "\n",
        "# Example usage\n",
        "tuples_list = [(1, 3), (2, 1), (3, 2)]\n",
        "result = sort_tuples_by_second(tuples_list)\n",
        "print(result)"
      ],
      "metadata": {
        "colab": {
          "base_uri": "https://localhost:8080/"
        },
        "id": "h4tnCN54Vq03",
        "outputId": "e8e053d4-7c60-43b9-c175-f6519c4d6745"
      },
      "execution_count": 6,
      "outputs": [
        {
          "output_type": "stream",
          "name": "stdout",
          "text": [
            "[(2, 1), (3, 2), (1, 3)]\n"
          ]
        }
      ]
    },
    {
      "cell_type": "markdown",
      "source": [
        "### 8. Write a recursive function to calculate the factorial of a number.\n",
        "\n"
      ],
      "metadata": {
        "id": "9BT-s-B9V4UC"
      }
    },
    {
      "cell_type": "code",
      "source": [
        "def factorial(n):\n",
        "    if n == 0 or n == 1:\n",
        "        return 1\n",
        "    return n * factorial(n - 1)\n",
        "\n",
        "# Example usage\n",
        "number = 5\n",
        "result = factorial(number)\n",
        "print(result)"
      ],
      "metadata": {
        "colab": {
          "base_uri": "https://localhost:8080/"
        },
        "id": "gtNtNqRlV732",
        "outputId": "7f3e5634-b420-474b-d5bb-02204bab2cec"
      },
      "execution_count": 7,
      "outputs": [
        {
          "output_type": "stream",
          "name": "stdout",
          "text": [
            "120\n"
          ]
        }
      ]
    },
    {
      "cell_type": "markdown",
      "source": [
        "### 9. Write a Python decorator to log the execution time of a function.\n",
        "\n"
      ],
      "metadata": {
        "id": "8WWFHC5CWCBN"
      }
    },
    {
      "cell_type": "code",
      "source": [
        "import time\n",
        "\n",
        "def log_execution_time(func):\n",
        "    def wrapper(*args, **kwargs):\n",
        "        start_time = time.time()\n",
        "        result = func(*args, **kwargs)\n",
        "        end_time = time.time()\n",
        "        print(f\"Execution time: {end_time - start_time:.4f} seconds\")\n",
        "        return result\n",
        "    return wrapper\n",
        "\n",
        "# Example usage\n",
        "@log_execution_time\n",
        "def example_function():\n",
        "    time.sleep(1)  # Simulate a delay\n",
        "\n",
        "example_function()"
      ],
      "metadata": {
        "colab": {
          "base_uri": "https://localhost:8080/"
        },
        "id": "FJu6f0_jWGFN",
        "outputId": "f7df7f39-d2c9-4770-c99c-cb93f64c3624"
      },
      "execution_count": 8,
      "outputs": [
        {
          "output_type": "stream",
          "name": "stdout",
          "text": [
            "Execution time: 1.0001 seconds\n"
          ]
        }
      ]
    },
    {
      "cell_type": "markdown",
      "source": [
        "### 10. Load a dataset in a Pandas DataFrame and perform filtering and aggregation.\n"
      ],
      "metadata": {
        "id": "jkhJg2DWTtOv"
      }
    },
    {
      "cell_type": "code",
      "execution_count": 9,
      "metadata": {
        "colab": {
          "base_uri": "https://localhost:8080/"
        },
        "id": "XSIJG7ETR21E",
        "outputId": "bae57292-09a6-4a0a-d064-43573594cca7"
      },
      "outputs": [
        {
          "output_type": "stream",
          "name": "stdout",
          "text": [
            "     Name  Age  Salary\n",
            "1     Bob   30   60000\n",
            "3   David   35   70000\n",
            "4  Edward   29   65000\n",
            "Average Salary: 60000.0\n"
          ]
        }
      ],
      "source": [
        "import pandas as pd\n",
        "\n",
        "# Example dataset\n",
        "data = {\n",
        "    'Name': ['Alice', 'Bob', 'Charlie', 'David', 'Edward'],\n",
        "    'Age': [24, 30, 22, 35, 29],\n",
        "    'Salary': [50000, 60000, 55000, 70000, 65000]\n",
        "}\n",
        "\n",
        "# ```python\n",
        "df = pd.DataFrame(data)\n",
        "\n",
        "# Filtering: Select employees with salary greater than 55000\n",
        "filtered_df = df[df['Salary'] > 55000]\n",
        "\n",
        "# Aggregation: Calculate the average salary\n",
        "average_salary = df['Salary'].mean()\n",
        "\n",
        "print(filtered_df)  # Output: DataFrame with employees having salary > 55000\n",
        "print(f\"Average Salary: {average_salary}\")  # Output: Average Salary: 61000.0"
      ]
    }
  ]
}